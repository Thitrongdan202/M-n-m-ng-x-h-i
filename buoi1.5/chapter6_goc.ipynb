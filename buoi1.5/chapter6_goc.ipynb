{
 "cells": [
  {
   "attachments": {},
   "cell_type": "markdown",
   "metadata": {},
   "source": [
    "# Normalizing Features with Graph Convolutional Networks"
   ]
  },
  {
   "cell_type": "code",
   "metadata": {
    "ExecuteTime": {
     "end_time": "2024-10-21T16:42:12.793530Z",
     "start_time": "2024-10-21T16:41:18.570597Z"
    }
   },
   "source": [
    "import torch\n",
    "!pip install -q torch-scatter~=2.1.0 torch-sparse~=0.6.16 torch-cluster~=1.6.0 torch-spline-conv~=1.2.1 torch-geometric==2.2.0 -f https://data.pyg.org/whl/torch-{torch.__version__}.html\n",
    "\n",
    "torch.manual_seed(1)\n",
    "torch.cuda.manual_seed(1)\n",
    "torch.cuda.manual_seed_all(1)\n",
    "torch.backends.cudnn.deterministic = True\n",
    "torch.backends.cudnn.benchmark = False"
   ],
   "outputs": [
    {
     "name": "stderr",
     "output_type": "stream",
     "text": [
      "  error: subprocess-exited-with-error\n",
      "  \n",
      "  python setup.py bdist_wheel did not run successfully.\n",
      "  exit code: 1\n",
      "  \n",
      "  [31 lines of output]\n",
      "  running bdist_wheel\n",
      "  running build\n",
      "  running build_py\n",
      "  creating build\\lib.win-amd64-cpython-312\\torch_scatter\n",
      "  copying torch_scatter\\placeholder.py -> build\\lib.win-amd64-cpython-312\\torch_scatter\n",
      "  copying torch_scatter\\scatter.py -> build\\lib.win-amd64-cpython-312\\torch_scatter\n",
      "  copying torch_scatter\\segment_coo.py -> build\\lib.win-amd64-cpython-312\\torch_scatter\n",
      "  copying torch_scatter\\segment_csr.py -> build\\lib.win-amd64-cpython-312\\torch_scatter\n",
      "  copying torch_scatter\\testing.py -> build\\lib.win-amd64-cpython-312\\torch_scatter\n",
      "  copying torch_scatter\\utils.py -> build\\lib.win-amd64-cpython-312\\torch_scatter\n",
      "  copying torch_scatter\\__init__.py -> build\\lib.win-amd64-cpython-312\\torch_scatter\n",
      "  creating build\\lib.win-amd64-cpython-312\\torch_scatter\\composite\n",
      "  copying torch_scatter\\composite\\logsumexp.py -> build\\lib.win-amd64-cpython-312\\torch_scatter\\composite\n",
      "  copying torch_scatter\\composite\\softmax.py -> build\\lib.win-amd64-cpython-312\\torch_scatter\\composite\n",
      "  copying torch_scatter\\composite\\std.py -> build\\lib.win-amd64-cpython-312\\torch_scatter\\composite\n",
      "  copying torch_scatter\\composite\\__init__.py -> build\\lib.win-amd64-cpython-312\\torch_scatter\\composite\n",
      "  running egg_info\n",
      "  writing torch_scatter.egg-info\\PKG-INFO\n",
      "  writing dependency_links to torch_scatter.egg-info\\dependency_links.txt\n",
      "  writing requirements to torch_scatter.egg-info\\requires.txt\n",
      "  writing top-level names to torch_scatter.egg-info\\top_level.txt\n",
      "  reading manifest file 'torch_scatter.egg-info\\SOURCES.txt'\n",
      "  reading manifest template 'MANIFEST.in'\n",
      "  warning: no previously-included files matching '*' found under directory 'test'\n",
      "  adding license file 'LICENSE'\n",
      "  writing manifest file 'torch_scatter.egg-info\\SOURCES.txt'\n",
      "  running build_ext\n",
      "  C:\\Users\\thitr\\Desktop\\monMXH\\M-n-m-ng-x-h-i\\.venv\\Lib\\site-packages\\torch\\utils\\cpp_extension.py:382: UserWarning: Error checking compiler version for cl: [WinError 2] The system cannot find the file specified\n",
      "    warnings.warn(f'Error checking compiler version for {compiler}: {error}')\n",
      "  building 'torch_scatter._scatter_cpu' extension\n",
      "  error: Microsoft Visual C++ 14.0 or greater is required. Get it with \"Microsoft C++ Build Tools\": https://visualstudio.microsoft.com/visual-cpp-build-tools/\n",
      "  [end of output]\n",
      "  \n",
      "  note: This error originates from a subprocess, and is likely not a problem with pip.\n",
      "  ERROR: Failed building wheel for torch-scatter\n",
      "  error: subprocess-exited-with-error\n",
      "  \n",
      "  python setup.py bdist_wheel did not run successfully.\n",
      "  exit code: 1\n",
      "  \n",
      "  [56 lines of output]\n",
      "  running bdist_wheel\n",
      "  C:\\Users\\thitr\\Desktop\\monMXH\\M-n-m-ng-x-h-i\\.venv\\Lib\\site-packages\\torch\\utils\\cpp_extension.py:497: UserWarning: Attempted to use ninja as the BuildExtension backend but we could not find ninja.. Falling back to using the slow distutils backend.\n",
      "    warnings.warn(msg.format('we could not find ninja.'))\n",
      "  running build\n",
      "  running build_py\n",
      "  creating build\\lib.win-amd64-cpython-312\\torch_sparse\n",
      "  copying torch_sparse\\add.py -> build\\lib.win-amd64-cpython-312\\torch_sparse\n",
      "  copying torch_sparse\\bandwidth.py -> build\\lib.win-amd64-cpython-312\\torch_sparse\n",
      "  copying torch_sparse\\cat.py -> build\\lib.win-amd64-cpython-312\\torch_sparse\n",
      "  copying torch_sparse\\coalesce.py -> build\\lib.win-amd64-cpython-312\\torch_sparse\n",
      "  copying torch_sparse\\convert.py -> build\\lib.win-amd64-cpython-312\\torch_sparse\n",
      "  copying torch_sparse\\diag.py -> build\\lib.win-amd64-cpython-312\\torch_sparse\n",
      "  copying torch_sparse\\eye.py -> build\\lib.win-amd64-cpython-312\\torch_sparse\n",
      "  copying torch_sparse\\index_select.py -> build\\lib.win-amd64-cpython-312\\torch_sparse\n",
      "  copying torch_sparse\\masked_select.py -> build\\lib.win-amd64-cpython-312\\torch_sparse\n",
      "  copying torch_sparse\\matmul.py -> build\\lib.win-amd64-cpython-312\\torch_sparse\n",
      "  copying torch_sparse\\metis.py -> build\\lib.win-amd64-cpython-312\\torch_sparse\n",
      "  copying torch_sparse\\mul.py -> build\\lib.win-amd64-cpython-312\\torch_sparse\n",
      "  copying torch_sparse\\narrow.py -> build\\lib.win-amd64-cpython-312\\torch_sparse\n",
      "  copying torch_sparse\\permute.py -> build\\lib.win-amd64-cpython-312\\torch_sparse\n",
      "  copying torch_sparse\\reduce.py -> build\\lib.win-amd64-cpython-312\\torch_sparse\n",
      "  copying torch_sparse\\rw.py -> build\\lib.win-amd64-cpython-312\\torch_sparse\n",
      "  copying torch_sparse\\saint.py -> build\\lib.win-amd64-cpython-312\\torch_sparse\n",
      "  copying torch_sparse\\sample.py -> build\\lib.win-amd64-cpython-312\\torch_sparse\n",
      "  copying torch_sparse\\select.py -> build\\lib.win-amd64-cpython-312\\torch_sparse\n",
      "  copying torch_sparse\\spadd.py -> build\\lib.win-amd64-cpython-312\\torch_sparse\n",
      "  copying torch_sparse\\spmm.py -> build\\lib.win-amd64-cpython-312\\torch_sparse\n",
      "  copying torch_sparse\\spspmm.py -> build\\lib.win-amd64-cpython-312\\torch_sparse\n",
      "  copying torch_sparse\\storage.py -> build\\lib.win-amd64-cpython-312\\torch_sparse\n",
      "  copying torch_sparse\\tensor.py -> build\\lib.win-amd64-cpython-312\\torch_sparse\n",
      "  copying torch_sparse\\testing.py -> build\\lib.win-amd64-cpython-312\\torch_sparse\n",
      "  copying torch_sparse\\transpose.py -> build\\lib.win-amd64-cpython-312\\torch_sparse\n",
      "  copying torch_sparse\\typing.py -> build\\lib.win-amd64-cpython-312\\torch_sparse\n",
      "  copying torch_sparse\\utils.py -> build\\lib.win-amd64-cpython-312\\torch_sparse\n",
      "  copying torch_sparse\\__init__.py -> build\\lib.win-amd64-cpython-312\\torch_sparse\n",
      "  running egg_info\n",
      "  writing torch_sparse.egg-info\\PKG-INFO\n",
      "  writing dependency_links to torch_sparse.egg-info\\dependency_links.txt\n",
      "  writing requirements to torch_sparse.egg-info\\requires.txt\n",
      "  writing top-level names to torch_sparse.egg-info\\top_level.txt\n",
      "  reading manifest file 'torch_sparse.egg-info\\SOURCES.txt'\n",
      "  reading manifest template 'MANIFEST.in'\n",
      "  warning: no previously-included files matching '*' found under directory 'third_party\\parallel-hashmap\\css'\n",
      "  warning: no previously-included files matching '*' found under directory 'third_party\\parallel-hashmap\\html'\n",
      "  warning: no previously-included files matching '*' found under directory 'third_party\\parallel-hashmap\\tests'\n",
      "  warning: no previously-included files matching '*' found under directory 'third_party\\parallel-hashmap\\examples'\n",
      "  warning: no previously-included files matching '*' found under directory 'third_party\\parallel-hashmap\\benchmark'\n",
      "  warning: no previously-included files matching '*' found under directory 'test'\n",
      "  warning: no previously-included files matching '*' found under directory 'benchmark'\n",
      "  adding license file 'LICENSE'\n",
      "  writing manifest file 'torch_sparse.egg-info\\SOURCES.txt'\n",
      "  running build_ext\n",
      "  C:\\Users\\thitr\\Desktop\\monMXH\\M-n-m-ng-x-h-i\\.venv\\Lib\\site-packages\\torch\\utils\\cpp_extension.py:382: UserWarning: Error checking compiler version for cl: [WinError 2] The system cannot find the file specified\n",
      "    warnings.warn(f'Error checking compiler version for {compiler}: {error}')\n",
      "  building 'torch_sparse._convert_cpu' extension\n",
      "  error: Microsoft Visual C++ 14.0 or greater is required. Get it with \"Microsoft C++ Build Tools\": https://visualstudio.microsoft.com/visual-cpp-build-tools/\n",
      "  [end of output]\n",
      "  \n",
      "  note: This error originates from a subprocess, and is likely not a problem with pip.\n",
      "  ERROR: Failed building wheel for torch-sparse\n",
      "  error: subprocess-exited-with-error\n",
      "  \n",
      "  python setup.py bdist_wheel did not run successfully.\n",
      "  exit code: 1\n",
      "  \n",
      "  [30 lines of output]\n",
      "  running bdist_wheel\n",
      "  running build\n",
      "  running build_py\n",
      "  creating build\\lib.win-amd64-cpython-312\\torch_cluster\n",
      "  copying torch_cluster\\fps.py -> build\\lib.win-amd64-cpython-312\\torch_cluster\n",
      "  copying torch_cluster\\graclus.py -> build\\lib.win-amd64-cpython-312\\torch_cluster\n",
      "  copying torch_cluster\\grid.py -> build\\lib.win-amd64-cpython-312\\torch_cluster\n",
      "  copying torch_cluster\\knn.py -> build\\lib.win-amd64-cpython-312\\torch_cluster\n",
      "  copying torch_cluster\\nearest.py -> build\\lib.win-amd64-cpython-312\\torch_cluster\n",
      "  copying torch_cluster\\radius.py -> build\\lib.win-amd64-cpython-312\\torch_cluster\n",
      "  copying torch_cluster\\rw.py -> build\\lib.win-amd64-cpython-312\\torch_cluster\n",
      "  copying torch_cluster\\sampler.py -> build\\lib.win-amd64-cpython-312\\torch_cluster\n",
      "  copying torch_cluster\\testing.py -> build\\lib.win-amd64-cpython-312\\torch_cluster\n",
      "  copying torch_cluster\\typing.py -> build\\lib.win-amd64-cpython-312\\torch_cluster\n",
      "  copying torch_cluster\\__init__.py -> build\\lib.win-amd64-cpython-312\\torch_cluster\n",
      "  running egg_info\n",
      "  writing torch_cluster.egg-info\\PKG-INFO\n",
      "  writing dependency_links to torch_cluster.egg-info\\dependency_links.txt\n",
      "  writing requirements to torch_cluster.egg-info\\requires.txt\n",
      "  writing top-level names to torch_cluster.egg-info\\top_level.txt\n",
      "  reading manifest file 'torch_cluster.egg-info\\SOURCES.txt'\n",
      "  reading manifest template 'MANIFEST.in'\n",
      "  warning: no previously-included files matching '*' found under directory 'test'\n",
      "  adding license file 'LICENSE'\n",
      "  writing manifest file 'torch_cluster.egg-info\\SOURCES.txt'\n",
      "  running build_ext\n",
      "  C:\\Users\\thitr\\Desktop\\monMXH\\M-n-m-ng-x-h-i\\.venv\\Lib\\site-packages\\torch\\utils\\cpp_extension.py:382: UserWarning: Error checking compiler version for cl: [WinError 2] The system cannot find the file specified\n",
      "    warnings.warn(f'Error checking compiler version for {compiler}: {error}')\n",
      "  building 'torch_cluster._fps_cpu' extension\n",
      "  error: Microsoft Visual C++ 14.0 or greater is required. Get it with \"Microsoft C++ Build Tools\": https://visualstudio.microsoft.com/visual-cpp-build-tools/\n",
      "  [end of output]\n",
      "  \n",
      "  note: This error originates from a subprocess, and is likely not a problem with pip.\n",
      "  ERROR: Failed building wheel for torch-cluster\n",
      "  error: subprocess-exited-with-error\n",
      "  \n",
      "  python setup.py bdist_wheel did not run successfully.\n",
      "  exit code: 1\n",
      "  \n",
      "  [24 lines of output]\n",
      "  running bdist_wheel\n",
      "  running build\n",
      "  running build_py\n",
      "  creating build\\lib.win-amd64-cpython-312\\torch_spline_conv\n",
      "  copying torch_spline_conv\\basis.py -> build\\lib.win-amd64-cpython-312\\torch_spline_conv\n",
      "  copying torch_spline_conv\\conv.py -> build\\lib.win-amd64-cpython-312\\torch_spline_conv\n",
      "  copying torch_spline_conv\\testing.py -> build\\lib.win-amd64-cpython-312\\torch_spline_conv\n",
      "  copying torch_spline_conv\\weighting.py -> build\\lib.win-amd64-cpython-312\\torch_spline_conv\n",
      "  copying torch_spline_conv\\__init__.py -> build\\lib.win-amd64-cpython-312\\torch_spline_conv\n",
      "  running egg_info\n",
      "  writing torch_spline_conv.egg-info\\PKG-INFO\n",
      "  writing dependency_links to torch_spline_conv.egg-info\\dependency_links.txt\n",
      "  writing requirements to torch_spline_conv.egg-info\\requires.txt\n",
      "  writing top-level names to torch_spline_conv.egg-info\\top_level.txt\n",
      "  reading manifest file 'torch_spline_conv.egg-info\\SOURCES.txt'\n",
      "  reading manifest template 'MANIFEST.in'\n",
      "  warning: no previously-included files matching '*' found under directory 'test'\n",
      "  adding license file 'LICENSE'\n",
      "  writing manifest file 'torch_spline_conv.egg-info\\SOURCES.txt'\n",
      "  running build_ext\n",
      "  C:\\Users\\thitr\\Desktop\\monMXH\\M-n-m-ng-x-h-i\\.venv\\Lib\\site-packages\\torch\\utils\\cpp_extension.py:382: UserWarning: Error checking compiler version for cl: [WinError 2] The system cannot find the file specified\n",
      "    warnings.warn(f'Error checking compiler version for {compiler}: {error}')\n",
      "  building 'torch_spline_conv._basis_cpu' extension\n",
      "  error: Microsoft Visual C++ 14.0 or greater is required. Get it with \"Microsoft C++ Build Tools\": https://visualstudio.microsoft.com/visual-cpp-build-tools/\n",
      "  [end of output]\n",
      "  \n",
      "  note: This error originates from a subprocess, and is likely not a problem with pip.\n",
      "  ERROR: Failed building wheel for torch-spline-conv\n",
      "ERROR: ERROR: Failed to build installable wheels for some pyproject.toml based projects (torch-scatter, torch-sparse, torch-cluster, torch-spline-conv)\n"
     ]
    }
   ],
   "execution_count": 1
  },
  {
   "cell_type": "code",
   "metadata": {
    "id": "-zKEpP7BsYSJ",
    "ExecuteTime": {
     "end_time": "2024-10-21T16:42:12.879447Z",
     "start_time": "2024-10-21T16:42:12.875938Z"
    }
   },
   "source": [
    "import numpy as np\n",
    "np.random.seed(0)\n",
    "\n",
    "D = np.array([\n",
    "    [3, 0, 0, 0],\n",
    "    [0, 1, 0, 0],\n",
    "    [0, 0, 2, 0],\n",
    "    [0, 0, 0, 2]\n",
    "])"
   ],
   "outputs": [],
   "execution_count": 2
  },
  {
   "cell_type": "code",
   "metadata": {
    "colab": {
     "base_uri": "https://localhost:8080/"
    },
    "id": "GOO7c3MtsnLs",
    "outputId": "aaa32f84-d280-4316-ac39-7085030152ed",
    "ExecuteTime": {
     "end_time": "2024-10-21T16:42:13.052922Z",
     "start_time": "2024-10-21T16:42:13.047493Z"
    }
   },
   "source": [
    "np.linalg.inv(D)"
   ],
   "outputs": [
    {
     "data": {
      "text/plain": [
       "array([[0.33333333, 0.        , 0.        , 0.        ],\n",
       "       [0.        , 1.        , 0.        , 0.        ],\n",
       "       [0.        , 0.        , 0.5       , 0.        ],\n",
       "       [0.        , 0.        , 0.        , 0.5       ]])"
      ]
     },
     "execution_count": 3,
     "metadata": {},
     "output_type": "execute_result"
    }
   ],
   "execution_count": 3
  },
  {
   "cell_type": "code",
   "metadata": {
    "colab": {
     "base_uri": "https://localhost:8080/"
    },
    "id": "2tMPqruAs0RX",
    "outputId": "b50967ad-3874-4136-ae46-60346e5fb323",
    "ExecuteTime": {
     "end_time": "2024-10-21T16:42:13.193678Z",
     "start_time": "2024-10-21T16:42:13.189458Z"
    }
   },
   "source": [
    "np.linalg.inv(D + np.identity(4))"
   ],
   "outputs": [
    {
     "data": {
      "text/plain": [
       "array([[0.25      , 0.        , 0.        , 0.        ],\n",
       "       [0.        , 0.5       , 0.        , 0.        ],\n",
       "       [0.        , 0.        , 0.33333333, 0.        ],\n",
       "       [0.        , 0.        , 0.        , 0.33333333]])"
      ]
     },
     "execution_count": 4,
     "metadata": {},
     "output_type": "execute_result"
    }
   ],
   "execution_count": 4
  },
  {
   "cell_type": "code",
   "metadata": {
    "colab": {
     "base_uri": "https://localhost:8080/"
    },
    "id": "zqNBVqCrtfCh",
    "outputId": "737bcba8-d410-42e0-b0d4-af8bcfc392c0",
    "ExecuteTime": {
     "end_time": "2024-10-21T16:42:13.244326Z",
     "start_time": "2024-10-21T16:42:13.239888Z"
    }
   },
   "source": [
    "A = np.array([\n",
    "    [1, 1, 1, 1],\n",
    "    [1, 1, 0, 0],\n",
    "    [1, 0, 1, 1],\n",
    "    [1, 0, 1, 1]\n",
    "])\n",
    "\n",
    "print(np.linalg.inv(D + np.identity(4)) @ A)\n",
    "print()\n",
    "print(A @ np.linalg.inv(D + np.identity(4)))"
   ],
   "outputs": [
    {
     "name": "stdout",
     "output_type": "stream",
     "text": [
      "[[0.25       0.25       0.25       0.25      ]\n",
      " [0.5        0.5        0.         0.        ]\n",
      " [0.33333333 0.         0.33333333 0.33333333]\n",
      " [0.33333333 0.         0.33333333 0.33333333]]\n",
      "\n",
      "[[0.25       0.5        0.33333333 0.33333333]\n",
      " [0.25       0.5        0.         0.        ]\n",
      " [0.25       0.         0.33333333 0.33333333]\n",
      " [0.25       0.         0.33333333 0.33333333]]\n"
     ]
    }
   ],
   "execution_count": 5
  },
  {
   "cell_type": "code",
   "metadata": {
    "colab": {
     "base_uri": "https://localhost:8080/",
     "height": 604
    },
    "id": "SBwA2oQb2bAY",
    "outputId": "bd2eac26-6106-44ba-fdfd-aa9c52a98269",
    "ExecuteTime": {
     "end_time": "2024-10-21T16:42:16.109136Z",
     "start_time": "2024-10-21T16:42:13.344127Z"
    }
   },
   "source": [
    "from torch_geometric.datasets import Planetoid\n",
    "from torch_geometric.utils import degree\n",
    "from collections import Counter\n",
    "import matplotlib.pyplot as plt\n",
    "\n",
    "# Import dataset from PyTorch Geometric\n",
    "dataset = Planetoid(root=\".\", name=\"Cora\")\n",
    "data = dataset[0]\n",
    "\n",
    "# Get list of degrees for each node\n",
    "degrees = degree(data.edge_index[0]).numpy()\n",
    "\n",
    "# Count the number of nodes for each degree\n",
    "numbers = Counter(degrees)\n",
    "\n",
    "# Bar plot\n",
    "fig, ax = plt.subplots()\n",
    "ax.set_xlabel('Node degree')\n",
    "ax.set_ylabel('Number of nodes')\n",
    "plt.bar(numbers.keys(), numbers.values())"
   ],
   "outputs": [
    {
     "data": {
      "text/plain": [
       "<BarContainer object of 37 artists>"
      ]
     },
     "execution_count": 6,
     "metadata": {},
     "output_type": "execute_result"
    },
    {
     "data": {
      "text/plain": [
       "<Figure size 640x480 with 1 Axes>"
      ],
      "image/png": "[encoded data removed]"
     },
     "metadata": {},
     "output_type": "display_data"
    }
   ],
   "execution_count": 6
  },
  {
   "cell_type": "code",
   "metadata": {
    "colab": {
     "base_uri": "https://localhost:8080/",
     "height": 604
    },
    "id": "XZCz3QiW3p2q",
    "outputId": "35ac7dde-a80c-4d4c-def9-a5a649249689",
    "ExecuteTime": {
     "end_time": "2024-10-21T16:42:16.499633Z",
     "start_time": "2024-10-21T16:42:16.135798Z"
    }
   },
   "source": [
    "from torch_geometric.datasets import FacebookPagePage\n",
    "\n",
    "# Import dataset from PyTorch Geometric\n",
    "dataset = FacebookPagePage(root=\".\")\n",
    "data = dataset[0]\n",
    "\n",
    "# Create masks\n",
    "data.train_mask = range(18000)\n",
    "data.val_mask = range(18001, 20000)\n",
    "data.test_mask = range(20001, 22470)\n",
    "\n",
    "# Get list of degrees for each node\n",
    "degrees = degree(data.edge_index[0]).numpy()\n",
    "\n",
    "# Count the number of nodes for each degree\n",
    "numbers = Counter(degrees)\n",
    "\n",
    "# Bar plot\n",
    "fig, ax = plt.subplots()\n",
    "ax.set_xlabel('Node degree')\n",
    "ax.set_ylabel('Number of nodes')\n",
    "plt.bar(numbers.keys(), numbers.values())"
   ],
   "outputs": [
    {
     "data": {
      "text/plain": [
       "<BarContainer object of 233 artists>"
      ]
     },
     "execution_count": 7,
     "metadata": {},
     "output_type": "execute_result"
    },
    {
     "data": {
      "text/plain": [
       "<Figure size 640x480 with 1 Axes>"
      ],
      "image/png": "[encoded data removed]"
     },
     "metadata": {},
     "output_type": "display_data"
    }
   ],
   "execution_count": 7
  },
  {
   "cell_type": "code",
   "metadata": {
    "colab": {
     "base_uri": "https://localhost:8080/"
    },
    "id": "BY3jGqau2tTj",
    "outputId": "a1f0cc33-c3b1-4fcf-cc37-4546259c833b",
    "ExecuteTime": {
     "end_time": "2024-10-21T16:42:17.483644Z",
     "start_time": "2024-10-21T16:42:16.505643Z"
    }
   },
   "source": [
    "import torch\n",
    "torch.manual_seed(1)\n",
    "import torch.nn.functional as F\n",
    "from torch_geometric.nn import GCNConv\n",
    "\n",
    "dataset = Planetoid(root=\".\", name=\"Cora\")\n",
    "data = dataset[0]\n",
    "\n",
    "def accuracy(y_pred, y_true):\n",
    "    \"\"\"Calculate accuracy.\"\"\"\n",
    "    return torch.sum(y_pred == y_true) / len(y_true)\n",
    "\n",
    "\n",
    "class GCN(torch.nn.Module):\n",
    "    \"\"\"Graph Convolutional Network\"\"\"\n",
    "    def __init__(self, dim_in, dim_h, dim_out):\n",
    "        super().__init__()\n",
    "        self.gcn1 = GCNConv(dim_in, dim_h)\n",
    "        self.gcn2 = GCNConv(dim_h, dim_out)\n",
    "\n",
    "    def forward(self, x, edge_index):\n",
    "        h = self.gcn1(x, edge_index)\n",
    "        h = torch.relu(h)\n",
    "        h = self.gcn2(h, edge_index)\n",
    "        return F.log_softmax(h, dim=1)\n",
    "\n",
    "    def fit(self, data, epochs):\n",
    "        criterion = torch.nn.CrossEntropyLoss()\n",
    "        optimizer = torch.optim.Adam(self.parameters(),\n",
    "                                      lr=0.01,\n",
    "                                      weight_decay=5e-4)\n",
    "\n",
    "        self.train()\n",
    "        for epoch in range(epochs+1):\n",
    "            optimizer.zero_grad()\n",
    "            out = self(data.x, data.edge_index)\n",
    "            loss = criterion(out[data.train_mask], data.y[data.train_mask])\n",
    "            acc = accuracy(out[data.train_mask].argmax(dim=1),\n",
    "                          data.y[data.train_mask])\n",
    "            loss.backward()\n",
    "            optimizer.step()\n",
    "\n",
    "            if(epoch % 20 == 0):\n",
    "                val_loss = criterion(out[data.val_mask], data.y[data.val_mask])\n",
    "                val_acc = accuracy(out[data.val_mask].argmax(dim=1),\n",
    "                                  data.y[data.val_mask])\n",
    "                print(f'Epoch {epoch:>3} | Train Loss: {loss:.3f} | Train Acc:'\n",
    "                      f' {acc*100:>5.2f}% | Val Loss: {val_loss:.2f} | '\n",
    "                      f'Val Acc: {val_acc*100:.2f}%')\n",
    "\n",
    "    @torch.no_grad()\n",
    "    def test(self, data):\n",
    "        self.eval()\n",
    "        out = self(data.x, data.edge_index)\n",
    "        acc = accuracy(out.argmax(dim=1)[data.test_mask], data.y[data.test_mask])\n",
    "        return acc\n",
    "\n",
    "# Create the Vanilla GNN model\n",
    "gcn = GCN(dataset.num_features, 16, dataset.num_classes)\n",
    "print(gcn)\n",
    "\n",
    "# Train\n",
    "gcn.fit(data, epochs=100)\n",
    "\n",
    "# Test\n",
    "acc = gcn.test(data)\n",
    "print(f'\\nGCN test accuracy: {acc*100:.2f}%\\n')"
   ],
   "outputs": [
    {
     "name": "stdout",
     "output_type": "stream",
     "text": [
      "GCN(\n",
      "  (gcn1): GCNConv(1433, 16)\n",
      "  (gcn2): GCNConv(16, 7)\n",
      ")\n",
      "Epoch   0 | Train Loss: 1.932 | Train Acc: 15.71% | Val Loss: 1.94 | Val Acc: 15.20%\n",
      "Epoch  20 | Train Loss: 0.099 | Train Acc: 100.00% | Val Loss: 0.75 | Val Acc: 77.80%\n",
      "Epoch  40 | Train Loss: 0.014 | Train Acc: 100.00% | Val Loss: 0.72 | Val Acc: 77.20%\n",
      "Epoch  60 | Train Loss: 0.015 | Train Acc: 100.00% | Val Loss: 0.71 | Val Acc: 77.80%\n",
      "Epoch  80 | Train Loss: 0.017 | Train Acc: 100.00% | Val Loss: 0.71 | Val Acc: 77.00%\n",
      "Epoch 100 | Train Loss: 0.016 | Train Acc: 100.00% | Val Loss: 0.71 | Val Acc: 76.40%\n",
      "\n",
      "GCN test accuracy: 79.70%\n",
      "\n"
     ]
    }
   ],
   "execution_count": 8
  },
  {
   "cell_type": "code",
   "metadata": {
    "ExecuteTime": {
     "end_time": "2024-10-21T16:42:25.869749Z",
     "start_time": "2024-10-21T16:42:17.496754Z"
    }
   },
   "source": [
    "# Load Facebook Page-Page\n",
    "dataset = FacebookPagePage(root=\".\")\n",
    "data = dataset[0]\n",
    "data.train_mask = range(18000)\n",
    "data.val_mask = range(18001, 20000)\n",
    "data.test_mask = range(20001, 22470)\n",
    "\n",
    "# Train GCN\n",
    "gcn = GCN(dataset.num_features, 16, dataset.num_classes)\n",
    "print(gcn)\n",
    "gcn.fit(data, epochs=100)\n",
    "acc = gcn.test(data)\n",
    "print(f'\\nGCN test accuracy: {acc*100:.2f}%\\n')"
   ],
   "outputs": [
    {
     "name": "stdout",
     "output_type": "stream",
     "text": [
      "GCN(\n",
      "  (gcn1): GCNConv(128, 16)\n",
      "  (gcn2): GCNConv(16, 4)\n",
      ")\n",
      "Epoch   0 | Train Loss: 1.463 | Train Acc: 20.72% | Val Loss: 1.45 | Val Acc: 20.71%\n",
      "Epoch  20 | Train Loss: 0.443 | Train Acc: 84.64% | Val Loss: 0.43 | Val Acc: 85.29%\n",
      "Epoch  40 | Train Loss: 0.323 | Train Acc: 89.59% | Val Loss: 0.31 | Val Acc: 90.20%\n",
      "Epoch  60 | Train Loss: 0.278 | Train Acc: 91.36% | Val Loss: 0.27 | Val Acc: 91.55%\n",
      "Epoch  80 | Train Loss: 0.254 | Train Acc: 92.28% | Val Loss: 0.26 | Val Acc: 92.75%\n",
      "Epoch 100 | Train Loss: 0.238 | Train Acc: 92.83% | Val Loss: 0.25 | Val Acc: 92.75%\n",
      "\n",
      "GCN test accuracy: 91.70%\n",
      "\n"
     ]
    }
   ],
   "execution_count": 9
  },
  {
   "cell_type": "code",
   "metadata": {
    "colab": {
     "base_uri": "https://localhost:8080/"
    },
    "id": "zLfbT3i0RJG-",
    "outputId": "4d08f6e4-de3a-47ef-c7fe-3e00d4b2367a",
    "ExecuteTime": {
     "end_time": "2024-10-21T16:42:25.899671Z",
     "start_time": "2024-10-21T16:42:25.880867Z"
    }
   },
   "source": [
    "from torch_geometric.datasets import WikipediaNetwork\n",
    "import torch_geometric.transforms as T\n",
    "\n",
    "dataset = WikipediaNetwork(root=\".\", name=\"chameleon\", transform = T.RandomNodeSplit(num_val=200, num_test=500))\n",
    "data = dataset[0]\n",
    "\n",
    "# Print information about the dataset\n",
    "print(f'Dataset: {dataset}')\n",
    "print('-------------------')\n",
    "print(f'Number of graphs: {len(dataset)}')\n",
    "print(f'Number of nodes: {data.x.shape[0]}')\n",
    "print(f'Number of unique features: {dataset.num_features}')\n",
    "print(f'Number of classes: {dataset.num_classes}')\n",
    "\n",
    "# Print information about the graph\n",
    "print(f'\\nGraph:')\n",
    "print('------')\n",
    "print(f'Edges are directed: {data.is_directed()}')\n",
    "print(f'Graph has isolated nodes: {data.has_isolated_nodes()}')\n",
    "print(f'Graph has loops: {data.has_self_loops()}')"
   ],
   "outputs": [
    {
     "name": "stdout",
     "output_type": "stream",
     "text": [
      "Dataset: WikipediaNetwork()\n",
      "-------------------\n",
      "Number of graphs: 1\n",
      "Number of nodes: 2277\n",
      "Number of unique features: 2325\n",
      "Number of classes: 5\n",
      "\n",
      "Graph:\n",
      "------\n",
      "Edges are directed: True\n",
      "Graph has isolated nodes: False\n",
      "Graph has loops: True\n"
     ]
    }
   ],
   "execution_count": 10
  },
  {
   "cell_type": "code",
   "metadata": {
    "ExecuteTime": {
     "end_time": "2024-10-21T16:42:29.170112Z",
     "start_time": "2024-10-21T16:42:25.921130Z"
    }
   },
   "source": [
    "from io import BytesIO\n",
    "from urllib.request import urlopen\n",
    "from zipfile import ZipFile\n",
    "\n",
    "url = 'https://snap.stanford.edu/data/wikipedia.zip'\n",
    "with urlopen(url) as zurl:\n",
    "    with ZipFile(BytesIO(zurl.read())) as zfile:\n",
    "        zfile.extractall('.')"
   ],
   "outputs": [],
   "execution_count": 11
  },
  {
   "cell_type": "code",
   "metadata": {
    "colab": {
     "base_uri": "https://localhost:8080/"
    },
    "id": "ynJBr0-SP2xH",
    "outputId": "de91c284-cae7-49b5-e780-7210696565bf",
    "ExecuteTime": {
     "end_time": "2024-10-21T16:42:29.193685Z",
     "start_time": "2024-10-21T16:42:29.173118Z"
    }
   },
   "source": [
    "import pandas as pd\n",
    "\n",
    "df = pd.read_csv('wikipedia/chameleon/musae_chameleon_target.csv')\n",
    "values = np.log10(df['target'])\n",
    "data.y = torch.tensor(values)\n",
    "data.y"
   ],
   "outputs": [
    {
     "data": {
      "text/plain": [
       "tensor([2.2330, 3.9079, 3.9329,  ..., 1.9956, 4.3598, 2.4409],\n",
       "       dtype=torch.float64)"
      ]
     },
     "execution_count": 12,
     "metadata": {},
     "output_type": "execute_result"
    }
   ],
   "execution_count": 12
  },
  {
   "cell_type": "code",
   "metadata": {
    "colab": {
     "base_uri": "https://localhost:8080/",
     "height": 613
    },
    "id": "rQ5wJAQuTaFn",
    "outputId": "563ea279-7a2d-4cc4-f527-67af17be0197",
    "ExecuteTime": {
     "end_time": "2024-10-21T16:42:29.395136Z",
     "start_time": "2024-10-21T16:42:29.207282Z"
    }
   },
   "source": [
    "from torch_geometric.utils import degree\n",
    "from collections import Counter\n",
    "\n",
    "# Get list of degrees for each node\n",
    "degrees = degree(data.edge_index[0]).numpy()\n",
    "\n",
    "# Count the number of nodes for each degree\n",
    "numbers = Counter(degrees)\n",
    "\n",
    "# Bar plot\n",
    "fig, ax = plt.subplots()\n",
    "ax.set_xlabel('Node degree')\n",
    "ax.set_ylabel('Number of nodes')\n",
    "plt.bar(numbers.keys(), numbers.values())"
   ],
   "outputs": [
    {
     "data": {
      "text/plain": [
       "<BarContainer object of 63 artists>"
      ]
     },
     "execution_count": 13,
     "metadata": {},
     "output_type": "execute_result"
    },
    {
     "data": {
      "text/plain": [
       "<Figure size 640x480 with 1 Axes>"
      ],
      "image/png": "[encoded data removed]"
     },
     "metadata": {},
     "output_type": "display_data"
    }
   ],
   "execution_count": 13
  },
  {
   "cell_type": "code",
   "metadata": {
    "colab": {
     "base_uri": "https://localhost:8080/",
     "height": 655
    },
    "id": "zHWhlvl6aQzB",
    "outputId": "a93d234f-5cb3-4351-862d-6ab3fa57b3ba",
    "ExecuteTime": {
     "end_time": "2024-10-21T16:42:29.607911Z",
     "start_time": "2024-10-21T16:42:29.407364Z"
    }
   },
   "source": [
    "import seaborn as sns\n",
    "from scipy.stats import norm\n",
    "\n",
    "df['target'] = values\n",
    "fig = sns.histplot(df['target'], kde=True, stat=\"density\")"
   ],
   "outputs": [
    {
     "data": {
      "text/plain": [
       "<Figure size 640x480 with 1 Axes>"
      ],
      "image/png": "[encoded data removed]"
     },
     "metadata": {},
     "output_type": "display_data"
    }
   ],
   "execution_count": 14
  },
  {
   "cell_type": "code",
   "metadata": {
    "colab": {
     "base_uri": "https://localhost:8080/"
    },
    "id": "73a22SlULnsg",
    "outputId": "bb93fa9a-36b0-479d-a739-a414de8d4a41",
    "ExecuteTime": {
     "end_time": "2024-10-21T16:43:09.339662Z",
     "start_time": "2024-10-21T16:42:29.621093Z"
    }
   },
   "source": [
    "class GCN(torch.nn.Module):\n",
    "    \"\"\"Graph Convolutional Network\"\"\"\n",
    "    def __init__(self, dim_in, dim_h, dim_out):\n",
    "        super().__init__()\n",
    "        self.gcn1 = GCNConv(dim_in, dim_h*4)\n",
    "        self.gcn2 = GCNConv(dim_h*4, dim_h*2)\n",
    "        self.gcn3 = GCNConv(dim_h*2, dim_h)\n",
    "        self.linear = torch.nn.Linear(dim_h, dim_out)\n",
    "\n",
    "    def forward(self, x, edge_index):\n",
    "        h = self.gcn1(x, edge_index)\n",
    "        h = torch.relu(h)\n",
    "        h = F.dropout(h, p=0.5, training=self.training)\n",
    "        h = self.gcn2(h, edge_index)\n",
    "        h = torch.relu(h)\n",
    "        h = F.dropout(h, p=0.5, training=self.training)\n",
    "        h = self.gcn3(h, edge_index)\n",
    "        h = torch.relu(h)\n",
    "        h = self.linear(h)\n",
    "        return h\n",
    "\n",
    "    def fit(self, data, epochs): \n",
    "        optimizer = torch.optim.Adam(self.parameters(),\n",
    "                                      lr=0.02,\n",
    "                                      weight_decay=5e-4)\n",
    "\n",
    "        self.train()\n",
    "        for epoch in range(epochs+1):\n",
    "            optimizer.zero_grad()\n",
    "            out = self(data.x, data.edge_index)\n",
    "            loss = F.mse_loss(out.squeeze()[data.train_mask], data.y[data.train_mask].float())\n",
    "            loss.backward()\n",
    "            optimizer.step()\n",
    "            if epoch % 20 == 0:\n",
    "                val_loss = F.mse_loss(out.squeeze()[data.val_mask], data.y[data.val_mask])\n",
    "                print(f\"Epoch {epoch:>3} | Train Loss: {loss:.5f} | Val Loss: {val_loss:.5f}\")\n",
    "\n",
    "    def test(self, data):\n",
    "        self.eval()\n",
    "        out = self(data.x, data.edge_index)\n",
    "        return F.mse_loss(out.squeeze()[data.test_mask], data.y[data.test_mask].float())\n",
    "\n",
    "# Create the Vanilla GNN model\n",
    "gcn = GCN(dataset.num_features, 128, 1)\n",
    "print(gcn) \n",
    "\n",
    "# Train\n",
    "gcn.fit(data, epochs=200)\n",
    "\n",
    "# Test\n",
    "loss = gcn.test(data)\n",
    "print(f'\\nGCN test loss: {loss:.5f}\\n')"
   ],
   "outputs": [
    {
     "name": "stdout",
     "output_type": "stream",
     "text": [
      "GCN(\n",
      "  (gcn1): GCNConv(2325, 512)\n",
      "  (gcn2): GCNConv(512, 256)\n",
      "  (gcn3): GCNConv(256, 128)\n",
      "  (linear): Linear(in_features=128, out_features=1, bias=True)\n",
      ")\n",
      "Epoch   0 | Train Loss: 12.81936 | Val Loss: 13.00659\n",
      "Epoch  20 | Train Loss: 11.71822 | Val Loss: 11.76676\n",
      "Epoch  40 | Train Loss: 10.29417 | Val Loss: 10.34435\n",
      "Epoch  60 | Train Loss: 8.67988 | Val Loss: 8.72097\n",
      "Epoch  80 | Train Loss: 4.03177 | Val Loss: 4.00313\n",
      "Epoch 100 | Train Loss: 1.94211 | Val Loss: 2.00301\n",
      "Epoch 120 | Train Loss: 0.97431 | Val Loss: 1.10883\n",
      "Epoch 140 | Train Loss: 0.73376 | Val Loss: 0.89986\n",
      "Epoch 160 | Train Loss: 0.58745 | Val Loss: 0.79570\n",
      "Epoch 180 | Train Loss: 0.52040 | Val Loss: 0.79910\n",
      "Epoch 200 | Train Loss: 0.50753 | Val Loss: 0.69298\n",
      "\n",
      "GCN test loss: 0.72017\n",
      "\n"
     ]
    }
   ],
   "execution_count": 15
  },
  {
   "cell_type": "code",
   "metadata": {
    "colab": {
     "base_uri": "https://localhost:8080/"
    },
    "id": "25B1H1cSWOcH",
    "outputId": "af95c849-cb50-4e9a-c06c-a18990a75326",
    "ExecuteTime": {
     "end_time": "2024-10-21T16:43:09.586338Z",
     "start_time": "2024-10-21T16:43:09.353786Z"
    }
   },
   "source": [
    "from sklearn.metrics import mean_squared_error, mean_absolute_error\n",
    "\n",
    "out = gcn(data.x, data.edge_index)\n",
    "y_pred = out.squeeze()[data.test_mask].detach().numpy()\n",
    "mse = mean_squared_error(data.y[data.test_mask], y_pred)\n",
    "mae = mean_absolute_error(data.y[data.test_mask], y_pred)\n",
    "\n",
    "print('=' * 43)\n",
    "print(f'MSE = {mse:.4f} | RMSE = {np.sqrt(mse):.4f} | MAE = {mae:.4f}')\n",
    "print('=' * 43)"
   ],
   "outputs": [
    {
     "name": "stdout",
     "output_type": "stream",
     "text": [
      "===========================================\n",
      "MSE = 0.7202 | RMSE = 0.8486 | MAE = 0.6834\n",
      "===========================================\n"
     ]
    }
   ],
   "execution_count": 16
  },
  {
   "cell_type": "code",
   "metadata": {
    "colab": {
     "base_uri": "https://localhost:8080/",
     "height": 618
    },
    "id": "cAfSxyEOO7N8",
    "outputId": "87d813cf-cd28-472f-8611-d7ef431f7a87",
    "ExecuteTime": {
     "end_time": "2024-10-21T16:43:09.880518Z",
     "start_time": "2024-10-21T16:43:09.618557Z"
    }
   },
   "source": [
    "fig = sns.regplot(x=data.y[data.test_mask].numpy(), y=y_pred)\n",
    "fig.set(xlabel='Ground truth', ylabel='Predicted values')"
   ],
   "outputs": [
    {
     "data": {
      "text/plain": [
       "[Text(0.5, 0, 'Ground truth'), Text(0, 0.5, 'Predicted values')]"
      ]
     },
     "execution_count": 17,
     "metadata": {},
     "output_type": "execute_result"
    },
    {
     "data": {
      "text/plain": [
       "<Figure size 640x480 with 1 Axes>"
      ],
      "image/png": "[encoded data removed]"
     },
     "metadata": {},
     "output_type": "display_data"
    }
   ],
   "execution_count": 17
  }
 ],
 "metadata": {
  "colab": {
   "provenance": []
  },
  "kernelspec": {
   "display_name": "book2",
   "language": "python",
   "name": "python3"
  },
  "language_info": {
   "codemirror_mode": {
    "name": "ipython",
    "version": 3
   },
   "file_extension": ".py",
   "mimetype": "text/x-python",
   "name": "python",
   "nbconvert_exporter": "python",
   "pygments_lexer": "ipython3",
   "version": "3.8.16"
  },
  "vscode": {
   "interpreter": {
    "hash": "680c1aa8c5daeb1786696be3a00b56fce4caa6169a61a7bba9980d1440fe1e5c"
   }
  }
 },
 "nbformat": 4,
 "nbformat_minor": 0
}
