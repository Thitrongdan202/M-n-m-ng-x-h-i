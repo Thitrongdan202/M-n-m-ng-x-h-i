{
 "cells": [
  {
   "cell_type": "code",
   "id": "initial_id",
   "metadata": {
    "collapsed": true,
    "ExecuteTime": {
     "end_time": "2024-10-29T11:46:45.639691Z",
     "start_time": "2024-10-29T11:46:45.637014Z"
    }
   },
   "source": [
    "import networkx as nx\n",
    "from collections import deque"
   ],
   "outputs": [],
   "execution_count": 4
  },
  {
   "metadata": {
    "ExecuteTime": {
     "end_time": "2024-10-29T11:46:45.660958Z",
     "start_time": "2024-10-29T11:46:45.657730Z"
    }
   },
   "cell_type": "code",
   "source": [
    "# Create a directed graph\n",
    "G = nx.Graph()\n",
    "\n",
    "# Adding edges to the graph as per the given image\n",
    "edges = [\n",
    "    ('A', 'B'), ('A', 'C'), ('A', 'D'), ('A', 'E'),\n",
    "    ('B', 'F'),\n",
    "    ('C', 'F'), ('C', 'G'),\n",
    "    ('D', 'G'), ('D', 'H'),\n",
    "    ('F', 'I'), ('G', 'J'),\n",
    "    ('I', 'K')\n",
    "]\n",
    "\n",
    "G.add_edges_from(edges)"
   ],
   "id": "870f0dfd175182b0",
   "outputs": [],
   "execution_count": 5
  },
  {
   "metadata": {
    "ExecuteTime": {
     "end_time": "2024-10-29T11:46:45.672904Z",
     "start_time": "2024-10-29T11:46:45.669183Z"
    }
   },
   "cell_type": "code",
   "source": [
    "def bfs(graph, start_node):\n",
    "    visited = set()\n",
    "    queue = deque([start_node])\n",
    "    traversal_order = []\n",
    "\n",
    "    while queue:\n",
    "        node = queue.popleft()\n",
    "        if node not in visited:\n",
    "            visited.add(node)\n",
    "            traversal_order.append(node)\n",
    "            queue.extend(neighbor for neighbor in graph.neighbors(node) if neighbor not in visited)\n",
    "\n",
    "    return traversal_order"
   ],
   "id": "ba50405744f2dd91",
   "outputs": [],
   "execution_count": 6
  },
  {
   "metadata": {
    "ExecuteTime": {
     "end_time": "2024-10-29T11:46:45.691045Z",
     "start_time": "2024-10-29T11:46:45.687919Z"
    }
   },
   "cell_type": "code",
   "source": [
    "start_node = 'A'\n",
    "result = bfs(G, start_node)\n",
    "print(f\"BFS Traversal starting from {start_node}: {result}\")"
   ],
   "id": "cf8ccee10a95f45b",
   "outputs": [
    {
     "name": "stdout",
     "output_type": "stream",
     "text": [
      "BFS Traversal starting from A: ['A', 'B', 'C', 'D', 'E', 'F', 'G', 'H', 'I', 'J', 'K']\n"
     ]
    }
   ],
   "execution_count": 7
  }
 ],
 "metadata": {
  "kernelspec": {
   "display_name": "Python 3",
   "language": "python",
   "name": "python3"
  },
  "language_info": {
   "codemirror_mode": {
    "name": "ipython",
    "version": 2
   },
   "file_extension": ".py",
   "mimetype": "text/x-python",
   "name": "python",
   "nbconvert_exporter": "python",
   "pygments_lexer": "ipython2",
   "version": "2.7.6"
  }
 },
 "nbformat": 4,
 "nbformat_minor": 5
}
