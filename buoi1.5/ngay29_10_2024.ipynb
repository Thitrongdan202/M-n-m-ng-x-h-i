{
 "cells": [
  {
   "cell_type": "code",
   "id": "initial_id",
   "metadata": {
    "collapsed": true,
    "ExecuteTime": {
     "end_time": "2024-10-29T11:46:45.639691Z",
     "start_time": "2024-10-29T11:46:45.637014Z"
    }
   },
   "source": [
    "import networkx as nx\n",
    "import numpy as np"
   ],
   "outputs": [],
   "execution_count": 4
  },
  {
   "metadata": {
    "ExecuteTime": {
     "end_time": "2024-10-29T11:46:45.660958Z",
     "start_time": "2024-10-29T11:46:45.657730Z"
    }
   },
   "cell_type": "code",
   "source": [
    "Graph01 = np.array([[0, 1, 0, 1, 0],\n",
    "                    [1, 0, 1, 0, 0],\n",
    "                    [0, 1, 0, 1, 1],\n",
    "                    [1, 0, 1, 0, 0],\n",
    "                    [0, 0, 1, 0, 0]])"
   ],
   "id": "870f0dfd175182b0",
   "outputs": [],
   "execution_count": 5
  },
  {
   "metadata": {
    "ExecuteTime": {
     "end_time": "2024-10-29T11:46:45.672904Z",
     "start_time": "2024-10-29T11:46:45.669183Z"
    }
   },
   "cell_type": "code",
   "source": "",
   "id": "ba50405744f2dd91",
   "outputs": [],
   "execution_count": 6
  },
  {
   "metadata": {
    "ExecuteTime": {
     "end_time": "2024-10-29T11:46:45.691045Z",
     "start_time": "2024-10-29T11:46:45.687919Z"
    }
   },
   "cell_type": "code",
   "source": "",
   "id": "cf8ccee10a95f45b",
   "outputs": [
    {
     "name": "stdout",
     "output_type": "stream",
     "text": [
      "BFS Traversal starting from A: ['A', 'B', 'C', 'D', 'E', 'F', 'G', 'H', 'I', 'J', 'K']\n"
     ]
    }
   ],
   "execution_count": 7
  }
 ],
 "metadata": {
  "kernelspec": {
   "display_name": "Python 3",
   "language": "python",
   "name": "python3"
  },
  "language_info": {
   "codemirror_mode": {
    "name": "ipython",
    "version": 2
   },
   "file_extension": ".py",
   "mimetype": "text/x-python",
   "name": "python",
   "nbconvert_exporter": "python",
   "pygments_lexer": "ipython2",
   "version": "2.7.6"
  }
 },
 "nbformat": 4,
 "nbformat_minor": 5
}
