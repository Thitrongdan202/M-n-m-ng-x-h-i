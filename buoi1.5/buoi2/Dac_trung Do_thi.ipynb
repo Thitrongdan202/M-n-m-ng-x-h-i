{
 "cells": [
  {
   "cell_type": "code",
   "id": "initial_id",
   "metadata": {
    "collapsed": true,
    "jupyter": {
     "is_executing": true
    }
   },
   "source": [
    "import networkx as nx\n",
    "import matplotlib.pyplot as plt\n",
    "import numpy as np"
   ],
   "outputs": [],
   "execution_count": null
  },
  {
   "metadata": {
    "jupyter": {
     "is_executing": true
    }
   },
   "cell_type": "code",
   "source": [
    "matrixG1 = np.array([\n",
    "    [0, 1, 0, 0, 1, 0],\n",
    "    [1, 0, 1, 0, 0, 0],\n",
    "    [0, 1, 0, 1, 0, 1],\n",
    "    [0, 0, 1, 0, 1, 0],\n",
    "    [1, 0, 0, 1, 0, 0],\n",
    "    [0, 0, 1, 0, 0, 0]\n",
    "])"
   ],
   "id": "51d50f23fc970a21",
   "outputs": [],
   "execution_count": null
  }
 ],
 "metadata": {
  "kernelspec": {
   "display_name": "Python 3",
   "language": "python",
   "name": "python3"
  },
  "language_info": {
   "codemirror_mode": {
    "name": "ipython",
    "version": 2
   },
   "file_extension": ".py",
   "mimetype": "text/x-python",
   "name": "python",
   "nbconvert_exporter": "python",
   "pygments_lexer": "ipython2",
   "version": "2.7.6"
  }
 },
 "nbformat": 4,
 "nbformat_minor": 5
}
